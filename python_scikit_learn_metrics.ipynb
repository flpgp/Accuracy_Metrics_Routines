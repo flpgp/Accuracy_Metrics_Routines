{
 "cells": [
  {
   "cell_type": "markdown",
   "metadata": {},
   "source": [
    "## Loading packages"
   ]
  },
  {
   "cell_type": "code",
   "execution_count": null,
   "metadata": {},
   "outputs": [],
   "source": [
    "import pandas as pd\n",
    "import numpy as np\n",
    "from sklearn.metrics import mean_squared_error, r2_score"
   ]
  },
  {
   "cell_type": "markdown",
   "metadata": {},
   "source": [
    "## Loading data"
   ]
  },
  {
   "cell_type": "code",
   "execution_count": null,
   "metadata": {},
   "outputs": [],
   "source": [
    "# Load the Excel file\n",
    "file_path = 'bloomberg.xlsx'\n",
    "sheet_name = 'AlimentacaoDomicilio'\n",
    "\n",
    "# Read data from the specified sheet and use the first row as header\n",
    "df = pd.read_excel(file_path, sheet_name=sheet_name, header=0)\n",
    "\n",
    "# Convert the 'Focus' and 'Observado' columns to numeric, errors='coerce' will convert invalid parsing to NaN\n",
    "df['Focus'] = pd.to_numeric(df['Focus'], errors='coerce')\n",
    "df['Observado'] = pd.to_numeric(df['Observado'], errors='coerce')\n",
    "\n",
    "# Drop rows where either 'Focus' or 'Observado' is missing\n",
    "df_cleaned = df.dropna(subset=['Focus', 'Observado'])"
   ]
  },
  {
   "cell_type": "markdown",
   "metadata": {},
   "source": [
    "## Accuracy Metrics"
   ]
  },
  {
   "cell_type": "code",
   "execution_count": null,
   "metadata": {},
   "outputs": [],
   "source": [
    "# Calculating R^2\n",
    "r_squared = r2_score(df_cleaned['Observado'], df_cleaned['Focus'])\n",
    "\n",
    "# Calculating MAPE (excluding rows where 'Observado' is zero)\n",
    "mape = (np.abs((df_cleaned['Observado'] - df_cleaned['Focus']) / df_cleaned['Observado'])).mean() * 100\n",
    "\n",
    "# Calculating RMSE\n",
    "rmse = np.sqrt(mean_squared_error(df_cleaned['Observado'], df_cleaned['Focus']))\n",
    "\n",
    "r_squared, mape, rmse"
   ]
  }
 ],
 "metadata": {
  "language_info": {
   "name": "python"
  }
 },
 "nbformat": 4,
 "nbformat_minor": 2
}
